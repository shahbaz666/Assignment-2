{
 "cells": [
  {
   "cell_type": "code",
   "execution_count": 82,
   "metadata": {},
   "outputs": [],
   "source": [
    "def flipkart_sunglasses():\n",
    "    import selenium\n",
    "    from selenium import webdriver as wb\n",
    "    import pandas as pd\n",
    "    webD = wb.Chrome('chromedriver.exe')\n",
    "    webD.get('https://www.flipkart.com/')\n",
    "    #Closing the annoying login popup\n",
    "    webD.find_element_by_xpath('/html/body/div[2]/div/div/button').click()\n",
    "    #finding the search field and searching for sunglasses\n",
    "    search = webD.find_element_by_name('q')\n",
    "    search.send_keys('sunglasses')\n",
    "    webD.find_element_by_xpath('//button[@class=\"vh79eN\"]').click()\n",
    "    #finding all search result elements\n",
    "    results = webD.find_elements_by_xpath('//div[@class=\"_2LFGJH\"]')\n",
    "    \n",
    "    def extract_record(result):\n",
    "        \"\"\"extract and return result from a single result\"\"\"\n",
    "        brand = result.find_element_by_class_name('_2B_pmu').text\n",
    "        #Error handling in case there is no discount on the product\n",
    "        discount = 0\n",
    "        if len(result.find_elements_by_class_name('VGWI6T'))>0:\n",
    "            discount = result.find_element_by_class_name('VGWI6T').text\n",
    "        item_desc = result.find_element_by_class_name('_2mylT6').text\n",
    "        price = result.find_element_by_class_name('_1vC4OE').text\n",
    "        brands.append(brand)\n",
    "        item_descs.append(item_desc)\n",
    "        prices.append(price)\n",
    "        discounts.append(discount)\n",
    "    #inititalzing lists for storing data\n",
    "    brands = []\n",
    "    item_descs = []\n",
    "    discounts = []\n",
    "    prices = []\n",
    "    #visiting first 3 pages for a total of 100 results\n",
    "    for page in range(3):\n",
    "        #iterating each search element in the page and extracting data from each result\n",
    "        for result in results:\n",
    "            record = extract_record(result)\n",
    "            if len(brands)==101:\n",
    "                break\n",
    "        time.sleep(3)\n",
    "        webD.find_elements_by_class_name('_3fVaIS')[-1].click()  #moving_to_next_page\n",
    "        time.sleep(5)  #Time for browser to load the page so that webdriver can update the new results\n",
    "        results = webD.find_elements_by_xpath('//div[@class=\"_2LFGJH\"]')  #update stored search result elements\n",
    "    glasses = pd.DataFrame({'Brand':brands,'Item Description':item_descs,'Price':prices,'Discount':discounts}) \n",
    "    webD.close()\n",
    "    return glasses"
   ]
  },
  {
   "cell_type": "code",
   "execution_count": 83,
   "metadata": {},
   "outputs": [
    {
     "name": "stdout",
     "output_type": "stream",
     "text": [
      "             Brand                                   Item Description   Price  \\\n",
      "0           zarsha  Gradient, UV Protection, Polarized, Riding Gla...    ₹165   \n",
      "1          I Flash  Gradient, UV Protection Round Sunglasses (Free...    ₹123   \n",
      "2          JOHAENA  Riding Glasses, UV Protection Oval Sunglasses ...    ₹171   \n",
      "3          ARNETTE               Mirrored Rectangular Sunglasses (63)  ₹3,584   \n",
      "4   Trendy Glasses  UV Protection Retro Square Sunglasses (Free Size)    ₹239   \n",
      "..             ...                                                ...     ...   \n",
      "75         Endiano      UV Protection Wayfarer Sunglasses (Free Size)    ₹190   \n",
      "76    Silver Kartz              UV Protection Aviator Sunglasses (62)    ₹228   \n",
      "77         ALEYBEE                UV Protection Round Sunglasses (54)    ₹189   \n",
      "78            INSH  UV Protection, Night Vision, Riding Glasses Re...    ₹327   \n",
      "79    IRUS by IDEE               Gradient Rectangular Sunglasses (55)  ₹1,140   \n",
      "\n",
      "   Discount  \n",
      "0   83% off  \n",
      "1   87% off  \n",
      "2   86% off  \n",
      "3   37% off  \n",
      "4   81% off  \n",
      "..      ...  \n",
      "75  61% off  \n",
      "76  80% off  \n",
      "77  87% off  \n",
      "78  86% off  \n",
      "79        0  \n",
      "\n",
      "[80 rows x 4 columns]\n"
     ]
    }
   ],
   "source": [
    "print(flipkart_sunglasses())"
   ]
  },
  {
   "cell_type": "code",
   "execution_count": null,
   "metadata": {},
   "outputs": [],
   "source": []
  },
  {
   "cell_type": "code",
   "execution_count": null,
   "metadata": {},
   "outputs": [],
   "source": []
  },
  {
   "cell_type": "code",
   "execution_count": 65,
   "metadata": {},
   "outputs": [],
   "source": [
    "import selenium\n",
    "from selenium import webdriver as wb\n",
    "import pandas as pd\n",
    "import time"
   ]
  },
  {
   "cell_type": "code",
   "execution_count": 66,
   "metadata": {},
   "outputs": [],
   "source": [
    "webD = wb.Chrome('chromedriver.exe')"
   ]
  },
  {
   "cell_type": "code",
   "execution_count": 67,
   "metadata": {},
   "outputs": [],
   "source": [
    "webD.get('https://www.flipkart.com/')"
   ]
  },
  {
   "cell_type": "code",
   "execution_count": 68,
   "metadata": {},
   "outputs": [],
   "source": [
    "webD.find_element_by_xpath('/html/body/div[2]/div/div/button').click()"
   ]
  },
  {
   "cell_type": "code",
   "execution_count": 69,
   "metadata": {},
   "outputs": [],
   "source": [
    "search = webD.find_element_by_name('q')"
   ]
  },
  {
   "cell_type": "code",
   "execution_count": 70,
   "metadata": {},
   "outputs": [],
   "source": [
    "search.send_keys('sunglasses')"
   ]
  },
  {
   "cell_type": "code",
   "execution_count": 71,
   "metadata": {},
   "outputs": [],
   "source": [
    "webD.find_element_by_xpath('//button[@class=\"vh79eN\"]').click()"
   ]
  },
  {
   "cell_type": "code",
   "execution_count": 72,
   "metadata": {},
   "outputs": [],
   "source": [
    "results = webD.find_elements_by_xpath('//div[@class=\"_2LFGJH\"]')"
   ]
  },
  {
   "cell_type": "code",
   "execution_count": 75,
   "metadata": {},
   "outputs": [],
   "source": [
    "def extract_record(result):\n",
    "    \"\"\"extract and return result from a single result\"\"\"\n",
    "    brand = result.find_element_by_class_name('_2B_pmu').text\n",
    "    discount = 0\n",
    "    if len(result.find_elements_by_class_name('VGWI6T'))>0:\n",
    "        discount = result.find_element_by_class_name('VGWI6T').text\n",
    "    item_desc = result.find_element_by_class_name('_2mylT6').text\n",
    "    price = result.find_element_by_class_name('_1vC4OE').text\n",
    "    brands.append(brand)\n",
    "    item_descs.append(item_desc)\n",
    "    prices.append(price)\n",
    "    discounts.append(discount)"
   ]
  },
  {
   "cell_type": "code",
   "execution_count": 76,
   "metadata": {},
   "outputs": [],
   "source": [
    "brands = []\n",
    "item_descs = []\n",
    "discounts = []\n",
    "prices = []\n",
    "for page in range(3):\n",
    "    for result in results:\n",
    "        record = extract_record(result)\n",
    "        if len(brands)==100:\n",
    "            break\n",
    "    webD.find_elements_by_class_name('_3fVaIS')[-1].click()\n",
    "    time.sleep(5)\n",
    "    results = webD.find_elements_by_xpath('//div[@class=\"_2LFGJH\"]')"
   ]
  },
  {
   "cell_type": "code",
   "execution_count": 77,
   "metadata": {},
   "outputs": [],
   "source": [
    "glasses = pd.DataFrame({'Brand':brands,'Item Description':item_descs,'Price':prices,'Discount':discounts}) #"
   ]
  },
  {
   "cell_type": "code",
   "execution_count": 79,
   "metadata": {},
   "outputs": [
    {
     "data": {
      "text/html": [
       "<div>\n",
       "<style scoped>\n",
       "    .dataframe tbody tr th:only-of-type {\n",
       "        vertical-align: middle;\n",
       "    }\n",
       "\n",
       "    .dataframe tbody tr th {\n",
       "        vertical-align: top;\n",
       "    }\n",
       "\n",
       "    .dataframe thead th {\n",
       "        text-align: right;\n",
       "    }\n",
       "</style>\n",
       "<table border=\"1\" class=\"dataframe\">\n",
       "  <thead>\n",
       "    <tr style=\"text-align: right;\">\n",
       "      <th></th>\n",
       "      <th>Brand</th>\n",
       "      <th>Item Description</th>\n",
       "      <th>Price</th>\n",
       "      <th>Discount</th>\n",
       "    </tr>\n",
       "  </thead>\n",
       "  <tbody>\n",
       "    <tr>\n",
       "      <th>0</th>\n",
       "      <td>ARNETTE</td>\n",
       "      <td>Others Oval Sunglasses (53)</td>\n",
       "      <td>₹4,025</td>\n",
       "      <td>37% off</td>\n",
       "    </tr>\n",
       "    <tr>\n",
       "      <th>1</th>\n",
       "      <td>ARNETTE</td>\n",
       "      <td>Mirrored Rectangular Sunglasses (56)</td>\n",
       "      <td>₹3,206</td>\n",
       "      <td>37% off</td>\n",
       "    </tr>\n",
       "    <tr>\n",
       "      <th>2</th>\n",
       "      <td>Collet</td>\n",
       "      <td>Gradient, Mirrored, UV Protection Aviator Sung...</td>\n",
       "      <td>₹199</td>\n",
       "      <td>86% off</td>\n",
       "    </tr>\n",
       "    <tr>\n",
       "      <th>3</th>\n",
       "      <td>Royal Son</td>\n",
       "      <td>UV Protection Wayfarer Sunglasses (55)</td>\n",
       "      <td>₹236</td>\n",
       "      <td>81% off</td>\n",
       "    </tr>\n",
       "    <tr>\n",
       "      <th>4</th>\n",
       "      <td>funglasses</td>\n",
       "      <td>UV Protection, Night Vision, Riding Glasses Ro...</td>\n",
       "      <td>₹161</td>\n",
       "      <td>83% off</td>\n",
       "    </tr>\n",
       "    <tr>\n",
       "      <th>...</th>\n",
       "      <td>...</td>\n",
       "      <td>...</td>\n",
       "      <td>...</td>\n",
       "      <td>...</td>\n",
       "    </tr>\n",
       "    <tr>\n",
       "      <th>95</th>\n",
       "      <td>Lee Topper</td>\n",
       "      <td>Riding Glasses, Night Vision Wrap-around Sungl...</td>\n",
       "      <td>₹278</td>\n",
       "      <td>88% off</td>\n",
       "    </tr>\n",
       "    <tr>\n",
       "      <th>96</th>\n",
       "      <td>PIRASO</td>\n",
       "      <td>UV Protection, Polarized Aviator Sunglasses (32)</td>\n",
       "      <td>₹161</td>\n",
       "      <td>89% off</td>\n",
       "    </tr>\n",
       "    <tr>\n",
       "      <th>97</th>\n",
       "      <td>Fastrack</td>\n",
       "      <td>UV Protection Rectangular Sunglasses (Free Size)</td>\n",
       "      <td>₹690</td>\n",
       "      <td>13% off</td>\n",
       "    </tr>\n",
       "    <tr>\n",
       "      <th>98</th>\n",
       "      <td>HIPPON</td>\n",
       "      <td>UV Protection Wayfarer Sunglasses (55)</td>\n",
       "      <td>₹192</td>\n",
       "      <td>83% off</td>\n",
       "    </tr>\n",
       "    <tr>\n",
       "      <th>99</th>\n",
       "      <td>Royal Son</td>\n",
       "      <td>Mirrored Aviator Sunglasses (58)</td>\n",
       "      <td>₹399</td>\n",
       "      <td>73% off</td>\n",
       "    </tr>\n",
       "  </tbody>\n",
       "</table>\n",
       "<p>100 rows × 4 columns</p>\n",
       "</div>"
      ],
      "text/plain": [
       "         Brand                                   Item Description   Price  \\\n",
       "0      ARNETTE                        Others Oval Sunglasses (53)  ₹4,025   \n",
       "1      ARNETTE               Mirrored Rectangular Sunglasses (56)  ₹3,206   \n",
       "2       Collet  Gradient, Mirrored, UV Protection Aviator Sung...    ₹199   \n",
       "3    Royal Son             UV Protection Wayfarer Sunglasses (55)    ₹236   \n",
       "4   funglasses  UV Protection, Night Vision, Riding Glasses Ro...    ₹161   \n",
       "..         ...                                                ...     ...   \n",
       "95  Lee Topper  Riding Glasses, Night Vision Wrap-around Sungl...    ₹278   \n",
       "96      PIRASO   UV Protection, Polarized Aviator Sunglasses (32)    ₹161   \n",
       "97    Fastrack   UV Protection Rectangular Sunglasses (Free Size)    ₹690   \n",
       "98      HIPPON             UV Protection Wayfarer Sunglasses (55)    ₹192   \n",
       "99   Royal Son                   Mirrored Aviator Sunglasses (58)    ₹399   \n",
       "\n",
       "   Discount  \n",
       "0   37% off  \n",
       "1   37% off  \n",
       "2   86% off  \n",
       "3   81% off  \n",
       "4   83% off  \n",
       "..      ...  \n",
       "95  88% off  \n",
       "96  89% off  \n",
       "97  13% off  \n",
       "98  83% off  \n",
       "99  73% off  \n",
       "\n",
       "[100 rows x 4 columns]"
      ]
     },
     "execution_count": 79,
     "metadata": {},
     "output_type": "execute_result"
    }
   ],
   "source": [
    "glasses"
   ]
  },
  {
   "cell_type": "code",
   "execution_count": 27,
   "metadata": {},
   "outputs": [],
   "source": []
  },
  {
   "cell_type": "code",
   "execution_count": 31,
   "metadata": {},
   "outputs": [],
   "source": []
  },
  {
   "cell_type": "code",
   "execution_count": 33,
   "metadata": {},
   "outputs": [],
   "source": []
  },
  {
   "cell_type": "code",
   "execution_count": null,
   "metadata": {},
   "outputs": [],
   "source": []
  },
  {
   "cell_type": "code",
   "execution_count": 40,
   "metadata": {},
   "outputs": [],
   "source": []
  },
  {
   "cell_type": "code",
   "execution_count": 41,
   "metadata": {},
   "outputs": [],
   "source": []
  },
  {
   "cell_type": "code",
   "execution_count": null,
   "metadata": {},
   "outputs": [],
   "source": []
  }
 ],
 "metadata": {
  "kernelspec": {
   "display_name": "Python 3",
   "language": "python",
   "name": "python3"
  },
  "language_info": {
   "codemirror_mode": {
    "name": "ipython",
    "version": 3
   },
   "file_extension": ".py",
   "mimetype": "text/x-python",
   "name": "python",
   "nbconvert_exporter": "python",
   "pygments_lexer": "ipython3",
   "version": "3.7.6"
  }
 },
 "nbformat": 4,
 "nbformat_minor": 4
}
