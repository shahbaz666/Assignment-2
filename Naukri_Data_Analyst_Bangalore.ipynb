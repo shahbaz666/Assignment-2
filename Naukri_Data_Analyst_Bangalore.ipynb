{
 "cells": [
  {
   "cell_type": "code",
   "execution_count": 1,
   "metadata": {},
   "outputs": [],
   "source": [
    "def Naukri_DA_Jobs_Bangalore():\n",
    "    import selenium\n",
    "    from selenium import webdriver as wb\n",
    "    import pandas as pd\n",
    "    import time\n",
    "    \n",
    "    def extract_record(result):\n",
    "        \"\"\"extract and return result from a single result\"\"\"\n",
    "        title_comapny = result.find_elements_by_tag_name('a')#Ttile and Company are contained in the first two a tags in each result\n",
    "        title = title_comapny[0].text\n",
    "        company = title_comapny[1].text\n",
    "        #finding the element in the result which contans experience, CTC & location data\n",
    "        exp_ctc_loc1 = result.find_elements_by_tag_name('ul')\n",
    "        exp_ctc_loc2 = exp_ctc_loc1[0].find_elements_by_tag_name('li')\n",
    "        location = exp_ctc_loc2[2].text\n",
    "        exp = exp_ctc_loc2[0].text    \n",
    "        titles.append(title)\n",
    "        comapnies.append(company)\n",
    "        locations.append(location)\n",
    "        experiences.append(exp)\n",
    "    \n",
    "    webD = wb.Chrome('chromedriver.exe')\n",
    "    webD.get('https://www.naukri.com/')\n",
    "    #finding the designation & location search fields and searching\n",
    "    search = webD.find_elements_by_class_name('sugInp')\n",
    "    search[0].send_keys('Data Analyst')\n",
    "    search[1].send_keys('Bangalore')\n",
    "    webD.find_element_by_class_name('search-btn').click()\n",
    "    time.sleep(5)#Time for browser to load the page so that webdriver can update the new results\n",
    "    #Find all search result elements\n",
    "    search_result = webD.find_elements_by_tag_name('article')\n",
    "    #inititalzing lists for storing data\n",
    "    titles = []\n",
    "    comapnies = []\n",
    "    locations = []\n",
    "    experiences = []\n",
    "    #iterating each search element and extracting data from each result\n",
    "    for result in search_result:\n",
    "        record = extract_record(result)\n",
    "        if len(titles)==10:  #only 10 search results\n",
    "            break\n",
    "    webD.close()\n",
    "    jobs = pd.DataFrame({'Job Title':titles,'Comapny':comapnies,'Location':locations,'Experience':experiences})\n",
    "    return jobs"
   ]
  },
  {
   "cell_type": "code",
   "execution_count": 2,
   "metadata": {},
   "outputs": [
    {
     "name": "stdout",
     "output_type": "stream",
     "text": [
      "                                           Job Title  \\\n",
      "0  Data Analyst: Fresher’s with Data Analyst Cert...   \n",
      "1                            Data Analyst (Gameplay)   \n",
      "2                  Business Analyst and Data Analyst   \n",
      "3                                       Data Analyst   \n",
      "4                          Intern - DFM Data Analyst   \n",
      "5  Hiring Data Analysts on Contract Third party p...   \n",
      "6                           Reliability Data Analyst   \n",
      "7           Urgent requirement For Data Analyst Pune   \n",
      "8                    Data Analyst - MySQL/PostgreSQL   \n",
      "9                                Senior Data Analyst   \n",
      "\n",
      "                                       Comapny  \\\n",
      "0                         GDA Security pvt ltd   \n",
      "1                                  Kwalee ltd.   \n",
      "2                           Tech Mahindra Ltd.   \n",
      "3                                 Hk solutions   \n",
      "4  GLOBALFOUNDRIES Engineering Private Limited   \n",
      "5            Flipkart Internet Private Limited   \n",
      "6                  Alstom Transport India Ltd.   \n",
      "7          Brainbees Solutions Private Limited   \n",
      "8                                      Astegic   \n",
      "9            Flipkart Internet Private Limited   \n",
      "\n",
      "                                            Location Experience  \n",
      "0                                          Bengaluru    0-0 Yrs  \n",
      "1                                          Bengaluru    0-2 Yrs  \n",
      "2                    Delhi NCR, Bengaluru, Hyderabad   7-12 Yrs  \n",
      "3                      Chennai, Delhi NCR, Bengaluru    0-3 Yrs  \n",
      "4                                          Bengaluru    0-5 Yrs  \n",
      "5                                          Bengaluru    2-6 Yrs  \n",
      "6                                          Bengaluru    3-8 Yrs  \n",
      "7                 Pune, Delhi NCR, Mumbai, Bengaluru    2-5 Yrs  \n",
      "8  Pune, Mumbai, Bengaluru, Hyderabad, Noida, Jaipur   5-10 Yrs  \n",
      "9                                          Bengaluru    2-6 Yrs  \n"
     ]
    }
   ],
   "source": [
    "print(Naukri_DA_Jobs_Bangalore())"
   ]
  },
  {
   "cell_type": "code",
   "execution_count": null,
   "metadata": {},
   "outputs": [],
   "source": []
  }
 ],
 "metadata": {
  "kernelspec": {
   "display_name": "Python 3",
   "language": "python",
   "name": "python3"
  },
  "language_info": {
   "codemirror_mode": {
    "name": "ipython",
    "version": 3
   },
   "file_extension": ".py",
   "mimetype": "text/x-python",
   "name": "python",
   "nbconvert_exporter": "python",
   "pygments_lexer": "ipython3",
   "version": "3.7.6"
  }
 },
 "nbformat": 4,
 "nbformat_minor": 4
}
