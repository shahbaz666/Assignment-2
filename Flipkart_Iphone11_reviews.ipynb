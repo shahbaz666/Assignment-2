{
 "cells": [
  {
   "cell_type": "code",
   "execution_count": 27,
   "metadata": {},
   "outputs": [],
   "source": [
    "def flipkart_iphone11_reviews():\n",
    "    import selenium\n",
    "    from selenium import webdriver as wb\n",
    "    import pandas as pd\n",
    "    import time\n",
    "    webD = wb.Chrome('chromedriver.exe')\n",
    "    webD.get('https://www.flipkart.com/apple-iphone-11-black-64-gb-includes-earpods-power-adapter/p/itm0f37c2240b217?pid=MOBFKCTSVZAXUHGR&lid=LSTMOBFKCTSVZAXUHGREPBFGI&marketplace')\n",
    "    #Clicking on all reviews to extract 100 reviews\n",
    "    webD.find_element_by_xpath('//div[@class=\"swINJg _3nrCtb\"]').click()\n",
    "    #finding all search result elements\n",
    "    reviews = webD.find_elements_by_class_name('_1PBCrt')\n",
    "    def extract_record(result):\n",
    "        \"\"\"extract and return result from a single review\"\"\"\n",
    "        rating_summary = result.find_element_by_class_name('row').text\n",
    "        rating_summary_list = rating_summary.split('\\n')\n",
    "        rating = rating_summary_list[0]\n",
    "        review_summary = rating_summary_list[1]\n",
    "        #in case the full review is hidden and needs to be clicked\n",
    "        if len(result.find_elements_by_class_name('_1EPkIx'))>0:\n",
    "            result.find_elements_by_class_name('_1EPkIx')[0].click()\n",
    "\n",
    "        full_review = result.find_elements_by_class_name('row')[1].text\n",
    "        ratings.append(rating)\n",
    "        review_summaries.append(review_summary)\n",
    "        full_reviews.append(full_review)\n",
    "    #inititalzing lists for storing data\n",
    "    full_reviews = []\n",
    "    review_summaries = []\n",
    "    ratings = []\n",
    "    #visiting first 10 pages for 100 reviews\n",
    "    for page in range(10):\n",
    "        #iterating each search element in the page and extracting data from each result\n",
    "        for result in reviews:\n",
    "            record = extract_record(result)\n",
    "        time.sleep(5)\n",
    "        webD.find_elements_by_class_name('_3fVaIS')[-1].click()  #moving_to_next_page\n",
    "        time.sleep(5)  #Time for browser to load the page so that webdriver can update the new results\n",
    "        reviews = webD.find_elements_by_class_name('_1PBCrt')  #update stored search result elements\n",
    "    iphone_review = pd.DataFrame({'Rating':ratings,'Review Summary':review_summaries,'Full Review':full_reviews})\n",
    "    webD.close()\n",
    "    return iphone_review"
   ]
  },
  {
   "cell_type": "code",
   "execution_count": 28,
   "metadata": {},
   "outputs": [
    {
     "name": "stdout",
     "output_type": "stream",
     "text": [
      "   Rating         Review Summary  \\\n",
      "0       5      Terrific purchase   \n",
      "1       5              Wonderful   \n",
      "2       5          Great product   \n",
      "3       5  Mind-blowing purchase   \n",
      "4       5      Terrific purchase   \n",
      "..    ...                    ...   \n",
      "85      5              Excellent   \n",
      "86      5       Perfect product!   \n",
      "87      5                 Super!   \n",
      "88      5              Fabulous!   \n",
      "89      5              Fabulous!   \n",
      "\n",
      "                                          Full Review  \n",
      "0   Upgraded from iphone 6 to 11 best phone for ip...  \n",
      "1   This is my first ever I phone. Before this I w...  \n",
      "2   Well you all know the specifications . One of ...  \n",
      "3   This will help you more. See if you are planni...  \n",
      "4   The built quality is not very premium.\\nThe ba...  \n",
      "..                                                ...  \n",
      "85  Seller - SuperComNet ( my trust in you has gro...  \n",
      "86  In love with this iphone great performance,cam...  \n",
      "87  It's a great phone. From camera to display eve...  \n",
      "88  Iphone is best ever but Flipkart delivered is ...  \n",
      "89  I have been using android from last 9 years an...  \n",
      "\n",
      "[90 rows x 3 columns]\n"
     ]
    }
   ],
   "source": [
    "print(flipkart_iphone11_reviews())"
   ]
  },
  {
   "cell_type": "code",
   "execution_count": null,
   "metadata": {},
   "outputs": [],
   "source": []
  },
  {
   "cell_type": "code",
   "execution_count": null,
   "metadata": {},
   "outputs": [],
   "source": []
  },
  {
   "cell_type": "code",
   "execution_count": 1,
   "metadata": {},
   "outputs": [],
   "source": [
    "import selenium\n",
    "from selenium import webdriver as wb\n",
    "import pandas as pd"
   ]
  },
  {
   "cell_type": "code",
   "execution_count": 2,
   "metadata": {},
   "outputs": [],
   "source": [
    "webD = wb.Chrome('chromedriver.exe')"
   ]
  },
  {
   "cell_type": "code",
   "execution_count": 3,
   "metadata": {},
   "outputs": [],
   "source": [
    "webD.get('https://www.flipkart.com/apple-iphone-11-black-64-gb-includes-earpods-power-adapter/p/itm0f37c2240b217?pid=MOBFKCTSVZAXUHGR&lid=LSTMOBFKCTSVZAXUHGREPBFGI&marketplace')"
   ]
  },
  {
   "cell_type": "code",
   "execution_count": 7,
   "metadata": {},
   "outputs": [],
   "source": [
    "webD.find_element_by_xpath('//div[@class=\"swINJg _3nrCtb\"]').click()"
   ]
  },
  {
   "cell_type": "code",
   "execution_count": 8,
   "metadata": {},
   "outputs": [],
   "source": [
    "reviews = webD.find_elements_by_class_name('_1PBCrt')"
   ]
  },
  {
   "cell_type": "code",
   "execution_count": 13,
   "metadata": {},
   "outputs": [],
   "source": [
    "import time"
   ]
  },
  {
   "cell_type": "code",
   "execution_count": 17,
   "metadata": {},
   "outputs": [],
   "source": [
    "def extract_record(result):\n",
    "    \"\"\"extract and return result from a single review\"\"\"\n",
    "    rating_summary = result.find_element_by_class_name('row').text\n",
    "    rating_summary_list = rating_summary.split('\\n')\n",
    "    rating = rating_summary_list[0]\n",
    "    review_summary = rating_summary_list[1]\n",
    "    \n",
    "    if len(result.find_elements_by_class_name('_1EPkIx'))>0:\n",
    "        result.find_elements_by_class_name('_1EPkIx')[0].click()\n",
    "        \n",
    "    full_review = result.find_elements_by_class_name('row')[1].text\n",
    "    ratings.append(rating)\n",
    "    review_summaries.append(review_summary)\n",
    "    full_reviews.append(full_review)"
   ]
  },
  {
   "cell_type": "code",
   "execution_count": 18,
   "metadata": {},
   "outputs": [],
   "source": [
    "full_reviews = []\n",
    "review_summaries = []\n",
    "ratings = []\n",
    "for page in range(10):\n",
    "    for result in reviews:\n",
    "        record = extract_record(result)\n",
    "    webD.find_elements_by_class_name('_3fVaIS')[-1].click()\n",
    "    time.sleep(5)\n",
    "    reviews = webD.find_elements_by_class_name('_1PBCrt')"
   ]
  },
  {
   "cell_type": "code",
   "execution_count": 19,
   "metadata": {},
   "outputs": [],
   "source": [
    "iphone_review = pd.DataFrame({'Rating':ratings,'Review Summary':review_summaries,'Full Review':full_reviews})"
   ]
  },
  {
   "cell_type": "code",
   "execution_count": 20,
   "metadata": {},
   "outputs": [
    {
     "data": {
      "text/html": [
       "<div>\n",
       "<style scoped>\n",
       "    .dataframe tbody tr th:only-of-type {\n",
       "        vertical-align: middle;\n",
       "    }\n",
       "\n",
       "    .dataframe tbody tr th {\n",
       "        vertical-align: top;\n",
       "    }\n",
       "\n",
       "    .dataframe thead th {\n",
       "        text-align: right;\n",
       "    }\n",
       "</style>\n",
       "<table border=\"1\" class=\"dataframe\">\n",
       "  <thead>\n",
       "    <tr style=\"text-align: right;\">\n",
       "      <th></th>\n",
       "      <th>Rating</th>\n",
       "      <th>Review Summary</th>\n",
       "      <th>Full Review</th>\n",
       "    </tr>\n",
       "  </thead>\n",
       "  <tbody>\n",
       "    <tr>\n",
       "      <th>0</th>\n",
       "      <td>5</td>\n",
       "      <td>Perfect product!</td>\n",
       "      <td>Amazing phone with great cameras and better ba...</td>\n",
       "    </tr>\n",
       "    <tr>\n",
       "      <th>1</th>\n",
       "      <td>5</td>\n",
       "      <td>Great product</td>\n",
       "      <td>Amazing Powerful and Durable Gadget.\\n\\nI’m am...</td>\n",
       "    </tr>\n",
       "    <tr>\n",
       "      <th>2</th>\n",
       "      <td>5</td>\n",
       "      <td>Perfect product!</td>\n",
       "      <td>It’s a must buy who is looking for an upgrade ...</td>\n",
       "    </tr>\n",
       "    <tr>\n",
       "      <th>3</th>\n",
       "      <td>5</td>\n",
       "      <td>Highly recommended</td>\n",
       "      <td>iphone 11 is a very good phone to buy only if ...</td>\n",
       "    </tr>\n",
       "    <tr>\n",
       "      <th>4</th>\n",
       "      <td>5</td>\n",
       "      <td>Perfect product!</td>\n",
       "      <td>Value for money❤️❤️\\nIts awesome mobile phone ...</td>\n",
       "    </tr>\n",
       "    <tr>\n",
       "      <th>...</th>\n",
       "      <td>...</td>\n",
       "      <td>...</td>\n",
       "      <td>...</td>\n",
       "    </tr>\n",
       "    <tr>\n",
       "      <th>95</th>\n",
       "      <td>5</td>\n",
       "      <td>Perfect product!</td>\n",
       "      <td>Excellent service by Flipkart. The phone is tr...</td>\n",
       "    </tr>\n",
       "    <tr>\n",
       "      <th>96</th>\n",
       "      <td>5</td>\n",
       "      <td>Mind-blowing purchase</td>\n",
       "      <td>It’s a quiet good for new users. And I’m happy...</td>\n",
       "    </tr>\n",
       "    <tr>\n",
       "      <th>97</th>\n",
       "      <td>5</td>\n",
       "      <td>Just wow!</td>\n",
       "      <td>My first iPhone. Still wondering where was I l...</td>\n",
       "    </tr>\n",
       "    <tr>\n",
       "      <th>98</th>\n",
       "      <td>5</td>\n",
       "      <td>Worth every penny</td>\n",
       "      <td>PROS:\\n1. Ballistic performance\\n2. Amazing im...</td>\n",
       "    </tr>\n",
       "    <tr>\n",
       "      <th>99</th>\n",
       "      <td>5</td>\n",
       "      <td>Just wow!</td>\n",
       "      <td>iPhone 11 is good but if someone want Superior...</td>\n",
       "    </tr>\n",
       "  </tbody>\n",
       "</table>\n",
       "<p>100 rows × 3 columns</p>\n",
       "</div>"
      ],
      "text/plain": [
       "   Rating         Review Summary  \\\n",
       "0       5       Perfect product!   \n",
       "1       5          Great product   \n",
       "2       5       Perfect product!   \n",
       "3       5     Highly recommended   \n",
       "4       5       Perfect product!   \n",
       "..    ...                    ...   \n",
       "95      5       Perfect product!   \n",
       "96      5  Mind-blowing purchase   \n",
       "97      5              Just wow!   \n",
       "98      5      Worth every penny   \n",
       "99      5              Just wow!   \n",
       "\n",
       "                                          Full Review  \n",
       "0   Amazing phone with great cameras and better ba...  \n",
       "1   Amazing Powerful and Durable Gadget.\\n\\nI’m am...  \n",
       "2   It’s a must buy who is looking for an upgrade ...  \n",
       "3   iphone 11 is a very good phone to buy only if ...  \n",
       "4   Value for money❤️❤️\\nIts awesome mobile phone ...  \n",
       "..                                                ...  \n",
       "95  Excellent service by Flipkart. The phone is tr...  \n",
       "96  It’s a quiet good for new users. And I’m happy...  \n",
       "97  My first iPhone. Still wondering where was I l...  \n",
       "98  PROS:\\n1. Ballistic performance\\n2. Amazing im...  \n",
       "99  iPhone 11 is good but if someone want Superior...  \n",
       "\n",
       "[100 rows x 3 columns]"
      ]
     },
     "execution_count": 20,
     "metadata": {},
     "output_type": "execute_result"
    }
   ],
   "source": [
    "iphone_review"
   ]
  },
  {
   "cell_type": "code",
   "execution_count": 94,
   "metadata": {},
   "outputs": [],
   "source": [
    "iphone_review.to_csv('iphone_reviewa.csv')"
   ]
  },
  {
   "cell_type": "code",
   "execution_count": null,
   "metadata": {},
   "outputs": [],
   "source": []
  }
 ],
 "metadata": {
  "kernelspec": {
   "display_name": "Python 3",
   "language": "python",
   "name": "python3"
  },
  "language_info": {
   "codemirror_mode": {
    "name": "ipython",
    "version": 3
   },
   "file_extension": ".py",
   "mimetype": "text/x-python",
   "name": "python",
   "nbconvert_exporter": "python",
   "pygments_lexer": "ipython3",
   "version": "3.7.6"
  }
 },
 "nbformat": 4,
 "nbformat_minor": 4
}
