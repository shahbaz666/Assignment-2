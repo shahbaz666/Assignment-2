{
 "cells": [
  {
   "cell_type": "code",
   "execution_count": 3,
   "metadata": {},
   "outputs": [],
   "source": [
    "def Naukri_DS_Bangalore_2to3LPA():\n",
    "    import selenium\n",
    "    from selenium import webdriver as wb\n",
    "    import pandas as pd\n",
    "    import time\n",
    "    webD = wb.Chrome('chromedriver.exe')\n",
    "    webD.get('https://www.naukri.com/')\n",
    "    #finding the designation search field and searching\n",
    "    search = webD.find_elements_by_class_name('sugInp')\n",
    "    search[0].send_keys('Data Scientist')\n",
    "    webD.find_element_by_class_name('search-btn').click()\n",
    "    time.sleep(5) ##Time for browser to load the page so that webdriver can update the new results\n",
    "    #Selecting location and CTC range filters directly using xpath\n",
    "    webD.find_element_by_xpath('//*[@id=\"root\"]/div[3]/div[2]/section[1]/div[2]/div[2]/div[2]/div[2]/label/i').click()\n",
    "    time.sleep(2)\n",
    "    webD.find_element_by_xpath('//*[@id=\"root\"]/div[3]/div[2]/section[1]/div[2]/div[3]/div[2]/div[2]/label/i').click()\n",
    "    time.sleep(2)\n",
    "    #Find all search result elements\n",
    "    search_result = webD.find_elements_by_tag_name('article')\n",
    "    def extract_record(result):\n",
    "        \"\"\"extract and return result from a single result\"\"\"   \n",
    "        #finding the element in the result which contans experience, CTC & location data\n",
    "        exp_ctc_loc1 = result.find_elements_by_tag_name('ul')\n",
    "        exp_ctc_loc2 = exp_ctc_loc1[0].find_elements_by_tag_name('li')\n",
    "        location = exp_ctc_loc2[2].text\n",
    "        title_comapny = result.find_elements_by_tag_name('a')  ##Ttile and Company are contained in the first two a tags in each result\n",
    "        title = title_comapny[0].text\n",
    "        company = title_comapny[1].text\n",
    "        exp = exp_ctc_loc2[0].text    \n",
    "        titles.append(title)\n",
    "        comapnies.append(company)\n",
    "        locations.append(location)\n",
    "        experiences.append(exp)\n",
    "    #inititalzing lists for storing data\n",
    "    titles = []\n",
    "    comapnies = []\n",
    "    locations = []\n",
    "    experiences = []\n",
    "    for result in search_result:\n",
    "        record = extract_record(result)\n",
    "        if len(titles)==10:  #only 10 search results\n",
    "            break\n",
    "    webD.close()\n",
    "    jobs = pd.DataFrame({'Job Title':titles,'Comapny':comapnies,'Location':locations,'Experience':experiences})\n",
    "    return jobs"
   ]
  },
  {
   "cell_type": "code",
   "execution_count": 4,
   "metadata": {},
   "outputs": [
    {
     "name": "stdout",
     "output_type": "stream",
     "text": [
      "                                           Job Title  \\\n",
      "0  Only Fresher / Data Scientist / Data Analyst /...   \n",
      "1             Data Scientist - Machine Learning/ NLP   \n",
      "2                                     Data Scientist   \n",
      "3                                     Data Scientist   \n",
      "4                          Junior Data Scientist/ TA   \n",
      "5                  Data Scientist - Tableau/Power BI   \n",
      "6                                     Data Scientist   \n",
      "7                                     Data Scientist   \n",
      "8                       Data Scientist/BPM/4-8 years   \n",
      "9                             Data Analyst/Scientist   \n",
      "\n",
      "                                             Comapny  \\\n",
      "0                          GABA Consultancy services   \n",
      "1                                             TalPro   \n",
      "2                                      NatWest Group   \n",
      "3                                              Jubna   \n",
      "4                     WSD CONSULTANT PRIVATE LIMITED   \n",
      "5                             Talent Stock Solutions   \n",
      "6                   GlobalHunt India Private Limited   \n",
      "7                                 Blue Sky Analytics   \n",
      "8  CRESCENDO GLOBAL LEADERSHIP HIRING INDIA PRIVA...   \n",
      "9                                   Amity University   \n",
      "\n",
      "                                            Location Experience  \n",
      "0                Faridabad, Delhi NCR, Greater Noida    0-0 Yrs  \n",
      "1                                   Gurgaon Gurugram    2-6 Yrs  \n",
      "2                                   Gurgaon Gurugram    2-7 Yrs  \n",
      "3                                              Noida    4-7 Yrs  \n",
      "4  Chennai, Pune, Mumbai, Bengaluru, Gurgaon, Hyd...    1-5 Yrs  \n",
      "5                                              Delhi    1-3 Yrs  \n",
      "6                                              Delhi    3-6 Yrs  \n",
      "7                                            Gurgaon    1-6 Yrs  \n",
      "8                                            Gurgaon    4-7 Yrs  \n",
      "9                               Delhi NCR, Ghaziabad    6-8 Yrs  \n"
     ]
    }
   ],
   "source": [
    "print(Naukri_DS_Bangalore_2to3LPA())"
   ]
  },
  {
   "cell_type": "code",
   "execution_count": null,
   "metadata": {},
   "outputs": [],
   "source": []
  }
 ],
 "metadata": {
  "kernelspec": {
   "display_name": "Python 3",
   "language": "python",
   "name": "python3"
  },
  "language_info": {
   "codemirror_mode": {
    "name": "ipython",
    "version": 3
   },
   "file_extension": ".py",
   "mimetype": "text/x-python",
   "name": "python",
   "nbconvert_exporter": "python",
   "pygments_lexer": "ipython3",
   "version": "3.7.6"
  }
 },
 "nbformat": 4,
 "nbformat_minor": 4
}
