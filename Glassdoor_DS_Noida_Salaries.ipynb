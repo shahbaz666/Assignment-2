{
 "cells": [
  {
   "cell_type": "code",
   "execution_count": 195,
   "metadata": {},
   "outputs": [],
   "source": [
    "def Glassdoor_DS_Noida_Salaries():\n",
    "    import selenium\n",
    "    from selenium import webdriver as wb\n",
    "    import pandas as pd\n",
    "    import time\n",
    "    webD = wb.Chrome('chromedriver.exe')\n",
    "    webD.get('https://www.glassdoor.co.in/Salaries/index.htm')\n",
    "    #finding the designation & location search fields and searching\n",
    "    title_search = webD.find_element_by_id('KeywordSearch')\n",
    "    loc_search = webD.find_element_by_id('LocationSearch')\n",
    "    title_search.send_keys('Data Scientist')\n",
    "    loc_search.send_keys('Noida')\n",
    "    webD.find_element_by_id('HeroSearchButton').click()\n",
    "    time.sleep(5)\n",
    "    #Find all search result elements\n",
    "    salary_result = webD.find_elements_by_xpath('//div[@data-test=\"job-info\"]')\n",
    "     #inititalzing lists for storing data\n",
    "    companies = []\n",
    "    no_of_salaries = []\n",
    "    avg_salaries = []\n",
    "    min_salaries = []\n",
    "    max_salaries = []\n",
    "    #Function for extracting info from one search result\n",
    "    def extract_record(result):\n",
    "        \"\"\"extract and return result from a single result\"\"\"\n",
    "        company = result.find_elements_by_tag_name('p')[1].text\n",
    "        salaries = result.find_elements_by_tag_name('p')[4].text\n",
    "        avg_sal = result.find_elements_by_tag_name('p')[2].text\n",
    "\n",
    "        sal_range = result.find_elements_by_class_name('m-0')[3].text\n",
    "        sal_list = sal_range.split(' ')\n",
    "        min_sal = sal_list[1]\n",
    "        max_sal = sal_list[3]\n",
    "        companies.append(company)\n",
    "        no_of_salaries.append(salaries)\n",
    "        avg_salaries.append(avg_sal)\n",
    "        min_salaries.append(min_sal)\n",
    "        max_salaries.append(max_sal)\n",
    "    #iterating each search element and extracting data from each result\n",
    "    for result in salary_result:\n",
    "        extract_record(result)\n",
    "        if len(companies)==10:  #only 10 search results\n",
    "            break\n",
    "    webD.close()\n",
    "    job_salaries = pd.DataFrame({'Comapny':companies,'Number of Salaries':no_of_salaries,'Average Salary':avg_salaries,'Minimum Salary':min_salaries,'Maximum Salary':max_salaries})\n",
    "    return job_salaries"
   ]
  },
  {
   "cell_type": "code",
   "execution_count": 196,
   "metadata": {},
   "outputs": [
    {
     "ename": "IndexError",
     "evalue": "list index out of range",
     "output_type": "error",
     "traceback": [
      "\u001b[1;31m---------------------------------------------------------------------------\u001b[0m",
      "\u001b[1;31mIndexError\u001b[0m                                Traceback (most recent call last)",
      "\u001b[1;32m<ipython-input-196-b82e63a1328d>\u001b[0m in \u001b[0;36m<module>\u001b[1;34m\u001b[0m\n\u001b[1;32m----> 1\u001b[1;33m \u001b[0mprint\u001b[0m\u001b[1;33m(\u001b[0m\u001b[0mGlassdoor_DS_Noida_Salaries\u001b[0m\u001b[1;33m(\u001b[0m\u001b[1;33m)\u001b[0m\u001b[1;33m)\u001b[0m\u001b[1;33m\u001b[0m\u001b[1;33m\u001b[0m\u001b[0m\n\u001b[0m",
      "\u001b[1;32m<ipython-input-195-28b28792605e>\u001b[0m in \u001b[0;36mGlassdoor_DS_Noida_Salaries\u001b[1;34m()\u001b[0m\n\u001b[0;32m     35\u001b[0m         \u001b[0mmax_salaries\u001b[0m\u001b[1;33m.\u001b[0m\u001b[0mappend\u001b[0m\u001b[1;33m(\u001b[0m\u001b[0mmax_sal\u001b[0m\u001b[1;33m)\u001b[0m\u001b[1;33m\u001b[0m\u001b[1;33m\u001b[0m\u001b[0m\n\u001b[0;32m     36\u001b[0m     \u001b[1;32mfor\u001b[0m \u001b[0mresult\u001b[0m \u001b[1;32min\u001b[0m \u001b[0msalary_result\u001b[0m\u001b[1;33m:\u001b[0m\u001b[1;33m\u001b[0m\u001b[1;33m\u001b[0m\u001b[0m\n\u001b[1;32m---> 37\u001b[1;33m         \u001b[0mextract_record\u001b[0m\u001b[1;33m(\u001b[0m\u001b[0mresult\u001b[0m\u001b[1;33m)\u001b[0m\u001b[1;33m\u001b[0m\u001b[1;33m\u001b[0m\u001b[0m\n\u001b[0m\u001b[0;32m     38\u001b[0m         \u001b[1;32mif\u001b[0m \u001b[0mlen\u001b[0m\u001b[1;33m(\u001b[0m\u001b[0mcompanies\u001b[0m\u001b[1;33m)\u001b[0m\u001b[1;33m==\u001b[0m\u001b[1;36m10\u001b[0m\u001b[1;33m:\u001b[0m\u001b[1;33m\u001b[0m\u001b[1;33m\u001b[0m\u001b[0m\n\u001b[0;32m     39\u001b[0m             \u001b[1;32mbreak\u001b[0m\u001b[1;33m\u001b[0m\u001b[1;33m\u001b[0m\u001b[0m\n",
      "\u001b[1;32m<ipython-input-195-28b28792605e>\u001b[0m in \u001b[0;36mextract_record\u001b[1;34m(result)\u001b[0m\n\u001b[0;32m     27\u001b[0m         \u001b[0msal_range\u001b[0m \u001b[1;33m=\u001b[0m \u001b[0mresult\u001b[0m\u001b[1;33m.\u001b[0m\u001b[0mfind_elements_by_class_name\u001b[0m\u001b[1;33m(\u001b[0m\u001b[1;34m'm-0'\u001b[0m\u001b[1;33m)\u001b[0m\u001b[1;33m[\u001b[0m\u001b[1;36m3\u001b[0m\u001b[1;33m]\u001b[0m\u001b[1;33m.\u001b[0m\u001b[0mtext\u001b[0m\u001b[1;33m\u001b[0m\u001b[1;33m\u001b[0m\u001b[0m\n\u001b[0;32m     28\u001b[0m         \u001b[0msal_list\u001b[0m \u001b[1;33m=\u001b[0m \u001b[0msal_range\u001b[0m\u001b[1;33m.\u001b[0m\u001b[0msplit\u001b[0m\u001b[1;33m(\u001b[0m\u001b[1;34m' '\u001b[0m\u001b[1;33m)\u001b[0m\u001b[1;33m\u001b[0m\u001b[1;33m\u001b[0m\u001b[0m\n\u001b[1;32m---> 29\u001b[1;33m         \u001b[0mmin_sal\u001b[0m \u001b[1;33m=\u001b[0m \u001b[0msal_list\u001b[0m\u001b[1;33m[\u001b[0m\u001b[1;36m1\u001b[0m\u001b[1;33m]\u001b[0m\u001b[1;33m\u001b[0m\u001b[1;33m\u001b[0m\u001b[0m\n\u001b[0m\u001b[0;32m     30\u001b[0m         \u001b[0mmax_sal\u001b[0m \u001b[1;33m=\u001b[0m \u001b[0msal_list\u001b[0m\u001b[1;33m[\u001b[0m\u001b[1;36m3\u001b[0m\u001b[1;33m]\u001b[0m\u001b[1;33m\u001b[0m\u001b[1;33m\u001b[0m\u001b[0m\n\u001b[0;32m     31\u001b[0m         \u001b[0mcompanies\u001b[0m\u001b[1;33m.\u001b[0m\u001b[0mappend\u001b[0m\u001b[1;33m(\u001b[0m\u001b[0mcompany\u001b[0m\u001b[1;33m)\u001b[0m\u001b[1;33m\u001b[0m\u001b[1;33m\u001b[0m\u001b[0m\n",
      "\u001b[1;31mIndexError\u001b[0m: list index out of range"
     ]
    }
   ],
   "source": [
    "print(Glassdoor_DS_Noida_Salaries())"
   ]
  },
  {
   "cell_type": "code",
   "execution_count": null,
   "metadata": {},
   "outputs": [],
   "source": []
  },
  {
   "cell_type": "code",
   "execution_count": null,
   "metadata": {},
   "outputs": [],
   "source": []
  },
  {
   "cell_type": "code",
   "execution_count": 157,
   "metadata": {},
   "outputs": [],
   "source": [
    "import selenium\n",
    "from selenium import webdriver as wb\n",
    "import pandas as pd"
   ]
  },
  {
   "cell_type": "code",
   "execution_count": 158,
   "metadata": {},
   "outputs": [],
   "source": [
    "webD = wb.Chrome('chromedriver.exe')"
   ]
  },
  {
   "cell_type": "code",
   "execution_count": 159,
   "metadata": {},
   "outputs": [],
   "source": [
    "webD.get('https://www.glassdoor.co.in/Salaries/index.htm')"
   ]
  },
  {
   "cell_type": "code",
   "execution_count": 160,
   "metadata": {},
   "outputs": [],
   "source": [
    "title_search = webD.find_element_by_id('KeywordSearch')\n",
    "loc_search = webD.find_element_by_id('LocationSearch')"
   ]
  },
  {
   "cell_type": "code",
   "execution_count": 161,
   "metadata": {},
   "outputs": [],
   "source": [
    "title_search.send_keys('Data Scientist')\n",
    "loc_search.send_keys('Noida')"
   ]
  },
  {
   "cell_type": "code",
   "execution_count": 162,
   "metadata": {},
   "outputs": [],
   "source": [
    "webD.find_element_by_id('HeroSearchButton').click()"
   ]
  },
  {
   "cell_type": "code",
   "execution_count": 163,
   "metadata": {},
   "outputs": [],
   "source": [
    "salary_result = webD.find_elements_by_xpath('//div[@data-test=\"job-info\"]')"
   ]
  },
  {
   "cell_type": "code",
   "execution_count": 164,
   "metadata": {},
   "outputs": [
    {
     "data": {
      "text/plain": [
       "20"
      ]
     },
     "execution_count": 164,
     "metadata": {},
     "output_type": "execute_result"
    }
   ],
   "source": [
    "len(salary_result)"
   ]
  },
  {
   "cell_type": "code",
   "execution_count": 176,
   "metadata": {},
   "outputs": [
    {
     "data": {
      "text/plain": [
       "'Data Scientist\\nUnitedHealth Group\\n7 salaries\\nSee 12 salaries from all locations'"
      ]
     },
     "execution_count": 176,
     "metadata": {},
     "output_type": "execute_result"
    }
   ],
   "source": [
    "salary_result[3].text"
   ]
  },
  {
   "cell_type": "code",
   "execution_count": 184,
   "metadata": {},
   "outputs": [],
   "source": [
    "result = salary_result[1]"
   ]
  },
  {
   "cell_type": "code",
   "execution_count": 185,
   "metadata": {},
   "outputs": [],
   "source": [
    "t = result.find_elements_by_class_name('m-0')"
   ]
  },
  {
   "cell_type": "code",
   "execution_count": 186,
   "metadata": {},
   "outputs": [
    {
     "data": {
      "text/plain": [
       "[<selenium.webdriver.remote.webelement.WebElement (session=\"580f5944d1b15620a551f11c61ae37b5\", element=\"2ef98ed1-eb68-41b6-be21-0f129b524272\")>,\n",
       " <selenium.webdriver.remote.webelement.WebElement (session=\"580f5944d1b15620a551f11c61ae37b5\", element=\"664eea79-b672-49dd-b964-bdfc87d41b1a\")>,\n",
       " <selenium.webdriver.remote.webelement.WebElement (session=\"580f5944d1b15620a551f11c61ae37b5\", element=\"f9af41b9-3ebb-47d7-9faf-da9337a6d9de\")>,\n",
       " <selenium.webdriver.remote.webelement.WebElement (session=\"580f5944d1b15620a551f11c61ae37b5\", element=\"27cbbd7e-f174-4630-91a9-059fd925e993\")>,\n",
       " <selenium.webdriver.remote.webelement.WebElement (session=\"580f5944d1b15620a551f11c61ae37b5\", element=\"445dce5e-922e-4f83-b8a8-9a9ebc3e4b8a\")>,\n",
       " <selenium.webdriver.remote.webelement.WebElement (session=\"580f5944d1b15620a551f11c61ae37b5\", element=\"74564f0f-20ae-4f10-88d9-cd380b44c4b8\")>]"
      ]
     },
     "execution_count": 186,
     "metadata": {},
     "output_type": "execute_result"
    }
   ],
   "source": [
    "t"
   ]
  },
  {
   "cell_type": "code",
   "execution_count": 187,
   "metadata": {},
   "outputs": [
    {
     "data": {
      "text/plain": [
       "'Range: ₹572K - ₹1,300K'"
      ]
     },
     "execution_count": 187,
     "metadata": {},
     "output_type": "execute_result"
    }
   ],
   "source": [
    "t[3].text"
   ]
  },
  {
   "cell_type": "code",
   "execution_count": null,
   "metadata": {},
   "outputs": [],
   "source": []
  },
  {
   "cell_type": "code",
   "execution_count": null,
   "metadata": {},
   "outputs": [],
   "source": []
  },
  {
   "cell_type": "code",
   "execution_count": 190,
   "metadata": {},
   "outputs": [],
   "source": [
    "companies = []\n",
    "no_of_salaries = []\n",
    "avg_salaries = []\n",
    "min_salaries = []\n",
    "max_salaries = []\n",
    "#Function for extracting info from one search result\n",
    "def extract_record(result):\n",
    "    \"\"\"extract and return result from a single result\"\"\"\n",
    "    company = result.find_elements_by_tag_name('p')[1].text\n",
    "    salaries = result.find_elements_by_tag_name('p')[4].text\n",
    "    avg_sal = result.find_elements_by_tag_name('p')[2].text\n",
    "    \n",
    "    sal_range = result.find_elements_by_class_name('m-0')[3].text\n",
    "    sal_list = sal_range.split(' ')\n",
    "    min_sal = sal_list[1]\n",
    "    max_sal = sal_list[3]\n",
    "    companies.append(company)\n",
    "    no_of_salaries.append(salaries)\n",
    "    avg_salaries.append(avg_sal)\n",
    "    min_salaries.append(min_sal)\n",
    "    max_salaries.append(max_sal)"
   ]
  },
  {
   "cell_type": "code",
   "execution_count": 191,
   "metadata": {},
   "outputs": [],
   "source": [
    "for result in salary_result:\n",
    "    extract_record(result)\n",
    "    if len(companies)==10:\n",
    "        break"
   ]
  },
  {
   "cell_type": "code",
   "execution_count": 192,
   "metadata": {},
   "outputs": [],
   "source": [
    "webD.close()"
   ]
  },
  {
   "cell_type": "code",
   "execution_count": 193,
   "metadata": {},
   "outputs": [],
   "source": [
    "job_salaries = pd.DataFrame({'Comapny':companies,'Number of Salaries':no_of_salaries,'Average Salary':avg_salaries,'Minimum Salary':min_salaries,'Maximum Salary':max_salaries})"
   ]
  },
  {
   "cell_type": "code",
   "execution_count": 194,
   "metadata": {},
   "outputs": [
    {
     "data": {
      "text/html": [
       "<div>\n",
       "<style scoped>\n",
       "    .dataframe tbody tr th:only-of-type {\n",
       "        vertical-align: middle;\n",
       "    }\n",
       "\n",
       "    .dataframe tbody tr th {\n",
       "        vertical-align: top;\n",
       "    }\n",
       "\n",
       "    .dataframe thead th {\n",
       "        text-align: right;\n",
       "    }\n",
       "</style>\n",
       "<table border=\"1\" class=\"dataframe\">\n",
       "  <thead>\n",
       "    <tr style=\"text-align: right;\">\n",
       "      <th></th>\n",
       "      <th>Comapny</th>\n",
       "      <th>Number of Salaries</th>\n",
       "      <th>Average Salary</th>\n",
       "      <th>Minimum Salary</th>\n",
       "      <th>Maximum Salary</th>\n",
       "    </tr>\n",
       "  </thead>\n",
       "  <tbody>\n",
       "    <tr>\n",
       "      <th>0</th>\n",
       "      <td>Delhivery</td>\n",
       "      <td>11 salaries</td>\n",
       "      <td>₹ 13,18,563/yr</td>\n",
       "      <td>₹706K</td>\n",
       "      <td>₹11,513K</td>\n",
       "    </tr>\n",
       "    <tr>\n",
       "      <th>1</th>\n",
       "      <td>Accenture</td>\n",
       "      <td>8 salaries</td>\n",
       "      <td>₹ 9,85,497/yr</td>\n",
       "      <td>₹572K</td>\n",
       "      <td>₹1,300K</td>\n",
       "    </tr>\n",
       "    <tr>\n",
       "      <th>2</th>\n",
       "      <td>IBM</td>\n",
       "      <td>7 salaries</td>\n",
       "      <td>₹ 7,53,602/yr</td>\n",
       "      <td>₹581K</td>\n",
       "      <td>₹2,704K</td>\n",
       "    </tr>\n",
       "    <tr>\n",
       "      <th>3</th>\n",
       "      <td>UnitedHealth Group</td>\n",
       "      <td>7 salaries</td>\n",
       "      <td>₹ 13,23,634/yr</td>\n",
       "      <td>₹710K</td>\n",
       "      <td>₹1,559K</td>\n",
       "    </tr>\n",
       "    <tr>\n",
       "      <th>4</th>\n",
       "      <td>Cognizant Technology Solutions</td>\n",
       "      <td>6 salaries</td>\n",
       "      <td>₹ 9,97,979/yr</td>\n",
       "      <td>₹785K</td>\n",
       "      <td>₹1,251K</td>\n",
       "    </tr>\n",
       "    <tr>\n",
       "      <th>5</th>\n",
       "      <td>Valiance Solutions</td>\n",
       "      <td>6 salaries</td>\n",
       "      <td>₹ 7,72,507/yr</td>\n",
       "      <td>₹497K</td>\n",
       "      <td>₹1,140K</td>\n",
       "    </tr>\n",
       "    <tr>\n",
       "      <th>6</th>\n",
       "      <td>Vidooly Media Tech</td>\n",
       "      <td>6 salaries</td>\n",
       "      <td>₹ 12,689/mo</td>\n",
       "      <td>₹8K</td>\n",
       "      <td>₹20K</td>\n",
       "    </tr>\n",
       "    <tr>\n",
       "      <th>7</th>\n",
       "      <td>Analytics Vidhya</td>\n",
       "      <td>6 salaries</td>\n",
       "      <td>₹ 21,215/mo</td>\n",
       "      <td>₹14K</td>\n",
       "      <td>₹22K</td>\n",
       "    </tr>\n",
       "    <tr>\n",
       "      <th>8</th>\n",
       "      <td>Tata Consultancy Services</td>\n",
       "      <td>5 salaries</td>\n",
       "      <td>₹ 6,77,498/yr</td>\n",
       "      <td>₹480K</td>\n",
       "      <td>₹1,000K</td>\n",
       "    </tr>\n",
       "    <tr>\n",
       "      <th>9</th>\n",
       "      <td>Ericsson-Worldwide</td>\n",
       "      <td>5 salaries</td>\n",
       "      <td>₹ 7,34,456/yr</td>\n",
       "      <td>₹460K</td>\n",
       "      <td>₹1,598K</td>\n",
       "    </tr>\n",
       "  </tbody>\n",
       "</table>\n",
       "</div>"
      ],
      "text/plain": [
       "                          Comapny Number of Salaries  Average Salary  \\\n",
       "0                       Delhivery        11 salaries  ₹ 13,18,563/yr   \n",
       "1                       Accenture         8 salaries   ₹ 9,85,497/yr   \n",
       "2                             IBM         7 salaries   ₹ 7,53,602/yr   \n",
       "3              UnitedHealth Group         7 salaries  ₹ 13,23,634/yr   \n",
       "4  Cognizant Technology Solutions         6 salaries   ₹ 9,97,979/yr   \n",
       "5              Valiance Solutions         6 salaries   ₹ 7,72,507/yr   \n",
       "6              Vidooly Media Tech         6 salaries     ₹ 12,689/mo   \n",
       "7                Analytics Vidhya         6 salaries     ₹ 21,215/mo   \n",
       "8       Tata Consultancy Services         5 salaries   ₹ 6,77,498/yr   \n",
       "9              Ericsson-Worldwide         5 salaries   ₹ 7,34,456/yr   \n",
       "\n",
       "  Minimum Salary Maximum Salary  \n",
       "0          ₹706K       ₹11,513K  \n",
       "1          ₹572K        ₹1,300K  \n",
       "2          ₹581K        ₹2,704K  \n",
       "3          ₹710K        ₹1,559K  \n",
       "4          ₹785K        ₹1,251K  \n",
       "5          ₹497K        ₹1,140K  \n",
       "6            ₹8K           ₹20K  \n",
       "7           ₹14K           ₹22K  \n",
       "8          ₹480K        ₹1,000K  \n",
       "9          ₹460K        ₹1,598K  "
      ]
     },
     "execution_count": 194,
     "metadata": {},
     "output_type": "execute_result"
    }
   ],
   "source": [
    "job_salaries"
   ]
  },
  {
   "cell_type": "code",
   "execution_count": null,
   "metadata": {},
   "outputs": [],
   "source": []
  }
 ],
 "metadata": {
  "kernelspec": {
   "display_name": "Python 3",
   "language": "python",
   "name": "python3"
  },
  "language_info": {
   "codemirror_mode": {
    "name": "ipython",
    "version": 3
   },
   "file_extension": ".py",
   "mimetype": "text/x-python",
   "name": "python",
   "nbconvert_exporter": "python",
   "pygments_lexer": "ipython3",
   "version": "3.7.6"
  }
 },
 "nbformat": 4,
 "nbformat_minor": 4
}
