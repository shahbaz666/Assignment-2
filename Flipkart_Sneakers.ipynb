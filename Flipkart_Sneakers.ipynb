{
 "cells": [
  {
   "cell_type": "code",
   "execution_count": 47,
   "metadata": {},
   "outputs": [],
   "source": [
    "def flipkart_sneakers():\n",
    "    import selenium\n",
    "    from selenium import webdriver as wb\n",
    "    import pandas as pd\n",
    "    import time\n",
    "\n",
    "    webD = wb.Chrome('chromedriver.exe')\n",
    "    webD.get('https://www.flipkart.com/')\n",
    "    #Closing the annoying login popup\n",
    "    webD.find_element_by_xpath('//button[@class=\"_2AkmmA _29YdH8\"]').click()\n",
    "    #finding the search field and searching for sneakers\n",
    "    search = webD.find_element_by_name('q')\n",
    "    search.send_keys('sneakers')\n",
    "    webD.find_element_by_xpath('//button[@class=\"vh79eN\"]').click()\n",
    "    #finding all search result elements\n",
    "    results = webD.find_elements_by_xpath('//div[@class=\"_2LFGJH\"]')\n",
    "    def extract_record(result):\n",
    "        \"\"\"extract and return result from a single result\"\"\"\n",
    "        brand = result.find_element_by_class_name('_2B_pmu').text\n",
    "        desc = result.find_element_by_class_name('_2mylT6').text\n",
    "        price = result.find_element_by_class_name('_1vC4OE').text\n",
    "        #Error handling in case there is no discount on the product\n",
    "        discount = 0\n",
    "        if len(result.find_elements_by_class_name('VGWI6T'))>0:\n",
    "            discount = result.find_element_by_class_name('VGWI6T').text\n",
    "        brands.append(brand)\n",
    "        descs.append(desc)\n",
    "        prices.append(price)\n",
    "        discounts.append(discount)\n",
    "    #inititalzing lists for storing data\n",
    "    brands = []\n",
    "    descs = []\n",
    "    prices = []\n",
    "    discounts = []\n",
    "    #visiting first 3 pages for a total of 100 results\n",
    "    for page in range(3):\n",
    "        #iterating each search element in the page and extracting data from each result\n",
    "        for result in results:\n",
    "            record = extract_record(result)\n",
    "            if len(brands)==100:\n",
    "                break\n",
    "        time.sleep(3)\n",
    "        webD.find_elements_by_class_name('_3fVaIS')[-1].click()  #moving_to_next_page\n",
    "        time.sleep(5)  #Time for browser to load the page so that webdriver can update the new results\n",
    "        results = webD.find_elements_by_xpath('//div[@class=\"_2LFGJH\"]')  #update stored search result elements\n",
    "    sneakers = pd.DataFrame({'Brand':brands,'Description':descs,'Price':prices,'Discount':discounts})\n",
    "    webD.close()\n",
    "    return sneakers"
   ]
  },
  {
   "cell_type": "code",
   "execution_count": 48,
   "metadata": {},
   "outputs": [
    {
     "name": "stdout",
     "output_type": "stream",
     "text": [
      "           Brand                                        Description   Price  \\\n",
      "0         REWARM  Men's CASUAL Shoes Fashion Breathable Sneakers...    ₹299   \n",
      "1           Wika                                   Sneakers For Men    ₹399   \n",
      "2         Chevit  Smart Casuals Canvas Shoes Combo pack of 2 Sne...    ₹360   \n",
      "3       Swanwood              SPORTY STITCH CANVAS Sneakers For Men    ₹451   \n",
      "4     D-SNEAKERZ  Casual , Partywear Sneakers Shoes For Men's An...    ₹385   \n",
      "..           ...                                                ...     ...   \n",
      "75  Jack Diamond                                   Sneakers For Men    ₹638   \n",
      "76        Kraasa             Knitted Socks Casuals Sneakers For Men    ₹499   \n",
      "77       Essence                                   Sneakers For Men    ₹474   \n",
      "78        Oricum                    ORIFWSH(A)-303 Sneakers For Men    ₹284   \n",
      "79          Xtep                                   Sneakers For Men  ₹1,760   \n",
      "\n",
      "   Discount  \n",
      "0   70% off  \n",
      "1   60% off  \n",
      "2   63% off  \n",
      "3   65% off  \n",
      "4   61% off  \n",
      "..      ...  \n",
      "75  36% off  \n",
      "76  50% off  \n",
      "77  52% off  \n",
      "78  43% off  \n",
      "79  49% off  \n",
      "\n",
      "[80 rows x 4 columns]\n"
     ]
    }
   ],
   "source": [
    "print(flipkart_sneakers())"
   ]
  },
  {
   "cell_type": "code",
   "execution_count": null,
   "metadata": {},
   "outputs": [],
   "source": []
  },
  {
   "cell_type": "code",
   "execution_count": 14,
   "metadata": {},
   "outputs": [],
   "source": [
    "import time"
   ]
  },
  {
   "cell_type": "code",
   "execution_count": 35,
   "metadata": {},
   "outputs": [],
   "source": [
    "import selenium\n",
    "from selenium import webdriver as wb\n",
    "import pandas as pd\n",
    "\n",
    "webD = wb.Chrome('chromedriver.exe')\n",
    "webD.get('https://www.flipkart.com/')\n",
    "search = webD.find_element_by_name('q')\n",
    "search.send_keys('sneakers')"
   ]
  },
  {
   "cell_type": "code",
   "execution_count": 36,
   "metadata": {},
   "outputs": [],
   "source": [
    "webD.find_element_by_xpath('//button[@class=\"_2AkmmA _29YdH8\"]').click()"
   ]
  },
  {
   "cell_type": "code",
   "execution_count": 37,
   "metadata": {},
   "outputs": [],
   "source": [
    "webD.find_element_by_xpath('//button[@class=\"vh79eN\"]').click()"
   ]
  },
  {
   "cell_type": "code",
   "execution_count": 38,
   "metadata": {},
   "outputs": [],
   "source": [
    "results = webD.find_elements_by_xpath('//div[@class=\"_2LFGJH\"]')"
   ]
  },
  {
   "cell_type": "code",
   "execution_count": 39,
   "metadata": {},
   "outputs": [],
   "source": [
    "def extract_record(result):\n",
    "    \"\"\"extract and return result from a single result\"\"\"\n",
    "    brand = result.find_element_by_class_name('_2B_pmu').text\n",
    "    desc = result.find_element_by_class_name('_2mylT6').text\n",
    "    price = result.find_element_by_class_name('_1vC4OE').text\n",
    "    discount = 0\n",
    "    if len(result.find_elements_by_class_name('VGWI6T'))>0:\n",
    "        discount = result.find_element_by_class_name('VGWI6T').text\n",
    "    brands.append(brand)\n",
    "    descs.append(desc)\n",
    "    prices.append(price)\n",
    "    discounts.append(discount)"
   ]
  },
  {
   "cell_type": "code",
   "execution_count": 40,
   "metadata": {
    "scrolled": true
   },
   "outputs": [],
   "source": [
    "brands = []\n",
    "descs = []\n",
    "prices = []\n",
    "discounts = []\n",
    "for page in range(3):\n",
    "    for result in results:\n",
    "        record = extract_record(result)\n",
    "        if len(brands)==100:\n",
    "            break\n",
    "    time.sleep(3)\n",
    "    webD.find_elements_by_class_name('_3fVaIS')[-1].click()\n",
    "    time.sleep(8)\n",
    "    results = webD.find_elements_by_xpath('//div[@class=\"_2LFGJH\"]')"
   ]
  },
  {
   "cell_type": "code",
   "execution_count": 41,
   "metadata": {},
   "outputs": [],
   "source": [
    "sneakers = pd.DataFrame({'Brand':brands,'Description':descs,'Price':prices,'Discount':discounts})"
   ]
  },
  {
   "cell_type": "code",
   "execution_count": 42,
   "metadata": {},
   "outputs": [
    {
     "name": "stdout",
     "output_type": "stream",
     "text": [
      "<class 'pandas.core.frame.DataFrame'>\n",
      "RangeIndex: 100 entries, 0 to 99\n",
      "Data columns (total 4 columns):\n",
      " #   Column       Non-Null Count  Dtype \n",
      "---  ------       --------------  ----- \n",
      " 0   Brand        100 non-null    object\n",
      " 1   Description  100 non-null    object\n",
      " 2   Price        100 non-null    object\n",
      " 3   Discount     100 non-null    object\n",
      "dtypes: object(4)\n",
      "memory usage: 3.2+ KB\n"
     ]
    }
   ],
   "source": [
    "sneakers.info()"
   ]
  },
  {
   "cell_type": "code",
   "execution_count": 43,
   "metadata": {},
   "outputs": [
    {
     "data": {
      "text/html": [
       "<div>\n",
       "<style scoped>\n",
       "    .dataframe tbody tr th:only-of-type {\n",
       "        vertical-align: middle;\n",
       "    }\n",
       "\n",
       "    .dataframe tbody tr th {\n",
       "        vertical-align: top;\n",
       "    }\n",
       "\n",
       "    .dataframe thead th {\n",
       "        text-align: right;\n",
       "    }\n",
       "</style>\n",
       "<table border=\"1\" class=\"dataframe\">\n",
       "  <thead>\n",
       "    <tr style=\"text-align: right;\">\n",
       "      <th></th>\n",
       "      <th>Brand</th>\n",
       "      <th>Description</th>\n",
       "      <th>Price</th>\n",
       "      <th>Discount</th>\n",
       "    </tr>\n",
       "  </thead>\n",
       "  <tbody>\n",
       "    <tr>\n",
       "      <th>0</th>\n",
       "      <td>BERKINS</td>\n",
       "      <td>Sneakers For Men</td>\n",
       "      <td>₹398</td>\n",
       "      <td>73% off</td>\n",
       "    </tr>\n",
       "    <tr>\n",
       "      <th>1</th>\n",
       "      <td>Rockfield</td>\n",
       "      <td>Sneakers For Men</td>\n",
       "      <td>₹449</td>\n",
       "      <td>55% off</td>\n",
       "    </tr>\n",
       "    <tr>\n",
       "      <th>2</th>\n",
       "      <td>Chevit</td>\n",
       "      <td>Combo Pack of 4 Casual Sneakers With Sneakers ...</td>\n",
       "      <td>₹461</td>\n",
       "      <td>76% off</td>\n",
       "    </tr>\n",
       "    <tr>\n",
       "      <th>3</th>\n",
       "      <td>Chevit</td>\n",
       "      <td>171 Smart Tan Lace-Ups Casuals for Men Sneaker...</td>\n",
       "      <td>₹236</td>\n",
       "      <td>52% off</td>\n",
       "    </tr>\n",
       "    <tr>\n",
       "      <th>4</th>\n",
       "      <td>D-SNEAKERZ</td>\n",
       "      <td>Casual , Partywear Sneakers Shoes For Men's An...</td>\n",
       "      <td>₹370</td>\n",
       "      <td>43% off</td>\n",
       "    </tr>\n",
       "    <tr>\n",
       "      <th>...</th>\n",
       "      <td>...</td>\n",
       "      <td>...</td>\n",
       "      <td>...</td>\n",
       "      <td>...</td>\n",
       "    </tr>\n",
       "    <tr>\n",
       "      <th>95</th>\n",
       "      <td>Asian</td>\n",
       "      <td>Skypy-31 Walking Shoes,Training Shoes,Sneakers...</td>\n",
       "      <td>₹499</td>\n",
       "      <td>16% off</td>\n",
       "    </tr>\n",
       "    <tr>\n",
       "      <th>96</th>\n",
       "      <td>Aadi</td>\n",
       "      <td>Sneakers For Men</td>\n",
       "      <td>₹379</td>\n",
       "      <td>62% off</td>\n",
       "    </tr>\n",
       "    <tr>\n",
       "      <th>97</th>\n",
       "      <td>Shoefly</td>\n",
       "      <td>Combo Men Pack of 2 Loafers Shoes Sneakers For...</td>\n",
       "      <td>₹331</td>\n",
       "      <td>66% off</td>\n",
       "    </tr>\n",
       "    <tr>\n",
       "      <th>98</th>\n",
       "      <td>Airland</td>\n",
       "      <td>Sneakers For Men</td>\n",
       "      <td>₹280</td>\n",
       "      <td>43% off</td>\n",
       "    </tr>\n",
       "    <tr>\n",
       "      <th>99</th>\n",
       "      <td>Claptrap</td>\n",
       "      <td>Sneakers Shoes For Men's And Boys Sneakers For...</td>\n",
       "      <td>₹799</td>\n",
       "      <td>46% off</td>\n",
       "    </tr>\n",
       "  </tbody>\n",
       "</table>\n",
       "<p>100 rows × 4 columns</p>\n",
       "</div>"
      ],
      "text/plain": [
       "         Brand                                        Description Price  \\\n",
       "0      BERKINS                                   Sneakers For Men  ₹398   \n",
       "1    Rockfield                                   Sneakers For Men  ₹449   \n",
       "2       Chevit  Combo Pack of 4 Casual Sneakers With Sneakers ...  ₹461   \n",
       "3       Chevit  171 Smart Tan Lace-Ups Casuals for Men Sneaker...  ₹236   \n",
       "4   D-SNEAKERZ  Casual , Partywear Sneakers Shoes For Men's An...  ₹370   \n",
       "..         ...                                                ...   ...   \n",
       "95       Asian  Skypy-31 Walking Shoes,Training Shoes,Sneakers...  ₹499   \n",
       "96        Aadi                                   Sneakers For Men  ₹379   \n",
       "97     Shoefly  Combo Men Pack of 2 Loafers Shoes Sneakers For...  ₹331   \n",
       "98     Airland                                   Sneakers For Men  ₹280   \n",
       "99    Claptrap  Sneakers Shoes For Men's And Boys Sneakers For...  ₹799   \n",
       "\n",
       "   Discount  \n",
       "0   73% off  \n",
       "1   55% off  \n",
       "2   76% off  \n",
       "3   52% off  \n",
       "4   43% off  \n",
       "..      ...  \n",
       "95  16% off  \n",
       "96  62% off  \n",
       "97  66% off  \n",
       "98  43% off  \n",
       "99  46% off  \n",
       "\n",
       "[100 rows x 4 columns]"
      ]
     },
     "execution_count": 43,
     "metadata": {},
     "output_type": "execute_result"
    }
   ],
   "source": [
    "sneakers"
   ]
  },
  {
   "cell_type": "code",
   "execution_count": null,
   "metadata": {},
   "outputs": [],
   "source": []
  }
 ],
 "metadata": {
  "kernelspec": {
   "display_name": "Python 3",
   "language": "python",
   "name": "python3"
  },
  "language_info": {
   "codemirror_mode": {
    "name": "ipython",
    "version": 3
   },
   "file_extension": ".py",
   "mimetype": "text/x-python",
   "name": "python",
   "nbconvert_exporter": "python",
   "pygments_lexer": "ipython3",
   "version": "3.7.6"
  }
 },
 "nbformat": 4,
 "nbformat_minor": 4
}
